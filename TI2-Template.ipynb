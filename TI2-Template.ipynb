{
 "cells": [
  {
   "cell_type": "markdown",
   "id": "bbbb237d",
   "metadata": {},
   "source": [
    "# [Prof. Dalvan Griebler](mailto:dalvan.griebler@pucrs.br)\n",
    "\n",
    "## Programação Orientada a Dados (POD) - Turma 10 (POD_98H04-06)\n",
    "\n",
    "**Atualizado**: 24/10/2021\n",
    "\n",
    "**Descrição**: Trabalho Individual: Programação Funcional\n",
    "\n",
    "**Copyright &copy;**: Este documento está sob a licensa da Criative Commons [BY-NC-ND 4.0](https://creativecommons.org/licenses/by-nc-nd/4.0/legalcode)"
   ]
  },
  {
   "cell_type": "markdown",
   "id": "d3470421",
   "metadata": {},
   "source": [
    "**_Atenção: Todas as função devem ser documentadas através de `docstring`, onde descreve-se o funcionamento da mesma. Você será também avaliado por esta explicação._**"
   ]
  },
  {
   "cell_type": "markdown",
   "id": "ccd18aa3",
   "metadata": {},
   "source": [
    "# Trabalho realizado por:"
   ]
  },
  {
   "cell_type": "markdown",
   "metadata": {},
   "source": [
    "### Thiago Macedo"
   ]
  },
  {
   "cell_type": "markdown",
   "id": "f28f148d",
   "metadata": {},
   "source": [
    "1. Implemente aqui funções auxiliares que serão usadas nas próximas questões:\n",
    "    1. Crie uma função pura que transforma uma lista normal em uma lista encadeada\n",
    "        - `[1,2,3]` $->$ `(1,(2,(3, None)))`\n",
    "    2. Crie uma função pura `primo` que retorna verdadeiro se o número for primo.\n",
    "    3. Faça uma função pura `factFun`, que calcule o fatorial de um número."
   ]
  },
  {
   "cell_type": "code",
   "execution_count": 8,
   "id": "b44d0da6",
   "metadata": {},
   "outputs": [
    {
     "name": "stdout",
     "output_type": "stream",
     "text": [
      "LISTA: [1, 2, 3, 4]\n",
      "LISTA_ENCADEADA: (1, (2, (3, (4, None))))\n",
      "primo(3): True\n",
      "factFun(3): 6\n"
     ]
    }
   ],
   "source": [
    "def l2ll(L):\n",
    "    \"\"\"Função que recebe uma lista por parâmetro e rotorna uma lista encadeada a partir da lista original.\n",
    "       Caso a lista estiver vazia, retorna None. Caso o contrário, adiciona o primeiro elemento da lista em \n",
    "       uma nova tupla e é chamado novamente para os elementos seguintes na lista, onde será criada uma outra tupla, \n",
    "       dentro da tupla anterior, que contém o primeiro valor da nova lista, e assim segue. \n",
    "\n",
    "    Args:\n",
    "        L (List): Lista de inteiros\n",
    "\n",
    "    Returns:\n",
    "        LinkedList: Uma lista encadeada formada a partir da lista original \n",
    "    \"\"\"\n",
    "    if not L:\n",
    "        return None\n",
    "    else:\n",
    "        return (L[0], l2ll(L[1:]))\n",
    "\n",
    "\n",
    "def primo(N, i=2):\n",
    "    \"\"\"Verifica se um numero é primo. Primeiro verifica se o número é menor ou igual a 1. Se for retorna falso. Depois, verifica se n é igual a i, \n",
    "        se a sobra da divisão entre i e n é zero e por fim chama a si mesmo com o i+1. \n",
    "        Como i começa em 2 e vai aumentando a cada interação, se chegarmos na interação onde i é igual ao valor de N, quer dizer que N não é divisível\n",
    "        por nenhum número a não ser 1 e ele mesmo, logo, ele é primo. \n",
    "\n",
    "    Args:\n",
    "        N (int): Valor que se deseja saber se é primo ou não.\n",
    "        i (int, optional): Valor opcional que é utilizado na recursividade da função. Padrão é 2.\n",
    "\n",
    "    Returns:\n",
    "        boolean: Verdadeiro se for primo e falso se não for primo.\n",
    "    \"\"\"\n",
    "    if N <= 1:\n",
    "        return False\n",
    "    else:\n",
    "        if N == i:\n",
    "            return True\n",
    "        elif N%i == 0:\n",
    "            return False\n",
    "        else:\n",
    "            return primo(N, i+1)\n",
    "    \n",
    "\n",
    "def factFun(N):\n",
    "    \"\"\"Retorna o fatorial de um número N. Caso N seja 1, o fatorial é 1. Caso N seja maior que 1, chama a si mesmo multiplicando o valor de N\n",
    "       por N-1, exatamente como funciona o conta do fatorial.\n",
    "\n",
    "    Args:\n",
    "        N (int): Numero que se quer o fatorial\n",
    "\n",
    "    Returns:\n",
    "        int: Fatorial de N\n",
    "    \"\"\"\n",
    "    if N > 1:\n",
    "        return N * factFun(N-1)\n",
    "    else:\n",
    "        return 1\n",
    "\n",
    "\n",
    "l = [1, 2, 3, 4]\n",
    "ll = l2ll(l)\n",
    "print(f'LISTA: {l}')\n",
    "print(f'LISTA_ENCADEADA: {ll}')\n",
    "print(f'primo(3): {primo(3)}')\n",
    "print(f'factFun(3): {factFun(3)}')\n"
   ]
  },
  {
   "cell_type": "markdown",
   "id": "b2e37b74",
   "metadata": {},
   "source": [
    "**Exemplo de Resultado Esperado**\n",
    "```bash\n",
    "LISTA: [1, 2, 3, 4]\n",
    "LISTA_ENCADEADA: (1, (2, (3, (4, None))))\n",
    "primo(3): True\n",
    "factFun(3): 6\n",
    "```"
   ]
  },
  {
   "cell_type": "markdown",
   "id": "23f49898",
   "metadata": {},
   "source": [
    "2. Implemente uma função pura chamada `filterLL` de alta ordem, que recebe uma lista encadeada `L` e uma função `F`, de modo que produza uma nova lista com cada elemento de `L` que seja verdade para `F`. Depois use ela para:\n",
    "    1. Filtrar os elementos ímpares de uma lista encadeada. Usar função `lambda`.\n",
    "    2. Filtrar os elementos que são do tipo string de uma lista encadeada. Usar função `lambda`.\n",
    "    3. Filtrar os elementos de uma lista encadeada que são primos. Usar a função criada anteriormente."
   ]
  },
  {
   "cell_type": "code",
   "execution_count": 3,
   "id": "eff5488d",
   "metadata": {},
   "outputs": [],
   "source": [
    "def filterLL(L, F):\n",
    "    pass "
   ]
  },
  {
   "cell_type": "markdown",
   "id": "28d0cf4e",
   "metadata": {},
   "source": [
    "**Exemplo de Resultado Esperado**\n",
    "```bash\n",
    "L1: (1, (2, (3, (4, (5, None)))))\n",
    "L2: (1, ('2', ('3', (4, ('5', None)))))\n",
    "L3: (2, (3, (4, (5, (6, None)))))\n",
    "filterLL-Ímpares-L1 (1, (3, (5, None)))\n",
    "filterLL-str-L2 ('2', ('3', ('5', None)))\n",
    "filterLL-primo-L3 (2, (3, (5, None)))\n",
    "```"
   ]
  },
  {
   "cell_type": "markdown",
   "id": "3dea7b7b",
   "metadata": {},
   "source": [
    "3. Implemente uma função pura chamada de `appendLL`, que recebe duas listas encadeadas e retorne a lista resultante da concatenação."
   ]
  },
  {
   "cell_type": "code",
   "execution_count": null,
   "id": "f33fd880",
   "metadata": {},
   "outputs": [],
   "source": [
    "def appendLL(LL1, LL2):\n",
    "    pass "
   ]
  },
  {
   "cell_type": "markdown",
   "id": "3827a1a1",
   "metadata": {},
   "source": [
    "**Exemplo de Resultado Esperado**\n",
    "```bash\n",
    "L1: (1, (5, (3, None)))\n",
    "L2: (4, (5, (10, None)))\n",
    "appendLL(L1,L2): (1, (5, (3, (4, (5, (10, None))))))\n",
    "```"
   ]
  },
  {
   "cell_type": "markdown",
   "id": "b89229c9",
   "metadata": {},
   "source": [
    "4. Escreva uma função pura `QuickSortLL`, que recebe uma lista encadeada `L` e retorne uma nova lista encadeada com os elementos de `L` ordenados em ordem ascendente.\n",
    "\n",
    "_Dica: aproveite as funções `appendLL` e `filterLL` criadas anteriormente._"
   ]
  },
  {
   "cell_type": "code",
   "execution_count": null,
   "id": "6bb3e87f",
   "metadata": {},
   "outputs": [],
   "source": [
    "def QuickSortLL(L):\n",
    "    pass "
   ]
  },
  {
   "cell_type": "markdown",
   "id": "54b7b6bf",
   "metadata": {},
   "source": [
    "**Exemplo de Resultado Esperado**\n",
    "```bash\n",
    "L1: (1, (4, (7, (2, (3, None)))))\n",
    "QuickSortLL(L1): (1, (2, (3, (4, (7, None)))))\n",
    "```"
   ]
  },
  {
   "cell_type": "markdown",
   "id": "cb4ba026",
   "metadata": {},
   "source": [
    "5. Implemente uma função pura `mapLL` de alta ordem, de forma que ela receba e aplique uma função `F` sob cada elemento de uma lista encadeada `L` que é passada como parâmetro (`mapLL(L,F)`), retornando uma nova lista. Depois, use `mapLL`:\n",
    "    1. Para calcular o fatorial de cada elemento de uma lista encadeada.\n",
    "    2. Para converter em string cada elemento de uma lista encadeada.\n",
    "    3. Para incrementar +1 cada elemento de uma lista encadeada. Use função lambda."
   ]
  },
  {
   "cell_type": "code",
   "execution_count": null,
   "id": "3678a09a",
   "metadata": {},
   "outputs": [],
   "source": [
    "def mapLL(L, F):\n",
    "    pass"
   ]
  },
  {
   "cell_type": "markdown",
   "id": "b38506a0",
   "metadata": {},
   "source": [
    "**Exemplo de Resultado Esperado**\n",
    "```bash\n",
    "L1: (1, (2, (3, (4, (5, None)))))\n",
    "L2: (1, ('2', ('3', (4, ('5', None)))))\n",
    "L3: (2, (3, (4, (5, (6, None)))))\n",
    "mapL-factorial-L1: (1, (2, (6, (24, (120, None)))))\n",
    "mapL-string-L2: ('1', ('2', ('3', ('4', ('5', None)))))\n",
    "mapL-incrementa-L3: (3, (4, (5, (6, (7, None)))))\n",
    "```"
   ]
  }
 ],
 "metadata": {
  "interpreter": {
   "hash": "054341ebc65047489d5a4cf0a8d5bb068d9cdcdb1fd9ccfc67d1a30ce61b778d"
  },
  "kernelspec": {
   "display_name": "Python 3.8.5 64-bit ('base': conda)",
   "name": "python3"
  },
  "language_info": {
   "codemirror_mode": {
    "name": "ipython",
    "version": 3
   },
   "file_extension": ".py",
   "mimetype": "text/x-python",
   "name": "python",
   "nbconvert_exporter": "python",
   "pygments_lexer": "ipython3",
   "version": "3.8.5"
  }
 },
 "nbformat": 4,
 "nbformat_minor": 5
}
